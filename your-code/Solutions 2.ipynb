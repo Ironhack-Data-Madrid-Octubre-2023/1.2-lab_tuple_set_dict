{
 "cells": [
  {
   "cell_type": "markdown",
   "metadata": {
    "toc": true
   },
   "source": [
    "<h1>Table of Contents<span class=\"tocSkip\"></span></h1>\n",
    "<div class=\"toc\"><ul class=\"toc-item\"><li><span><a href=\"#Challenge-1:-Tuples\" data-toc-modified-id=\"Challenge-1:-Tuples-1\"><span class=\"toc-item-num\">1&nbsp;&nbsp;</span>Challenge 1: Tuples</a></span><ul class=\"toc-item\"><li><ul class=\"toc-item\"><li><span><a href=\"#Do-you-know-you-can-create-tuples-with-only-one-element?\" data-toc-modified-id=\"Do-you-know-you-can-create-tuples-with-only-one-element?-1.0.1\"><span class=\"toc-item-num\">1.0.1&nbsp;&nbsp;</span>Do you know you can create tuples with only one element?</a></span></li><li><span><a href=\"#Print-the-type-of-tup.\" data-toc-modified-id=\"Print-the-type-of-tup.-1.0.2\"><span class=\"toc-item-num\">1.0.2&nbsp;&nbsp;</span>Print the type of <code>tup</code>.</a></span></li><li><span><a href=\"#Now-try-to-append-the-following-elements-to-tup.\" data-toc-modified-id=\"Now-try-to-append-the-following-elements-to-tup.-1.0.3\"><span class=\"toc-item-num\">1.0.3&nbsp;&nbsp;</span>Now try to append the following elements to <code>tup</code>.</a></span></li><li><span><a href=\"#How-about-re-assign-a-new-value-to-an-existing-tuple?\" data-toc-modified-id=\"How-about-re-assign-a-new-value-to-an-existing-tuple?-1.0.4\"><span class=\"toc-item-num\">1.0.4&nbsp;&nbsp;</span>How about re-assign a new value to an existing tuple?</a></span></li><li><span><a href=\"#Split-tup-into-tup1-and-tup2-with-4-elements-in-each.\" data-toc-modified-id=\"Split-tup-into-tup1-and-tup2-with-4-elements-in-each.-1.0.5\"><span class=\"toc-item-num\">1.0.5&nbsp;&nbsp;</span>Split <code>tup</code> into <code>tup1</code> and <code>tup2</code> with 4 elements in each.</a></span></li><li><span><a href=\"#Add-tup1-and-tup2-into-tup3-using-the-+-operator.\" data-toc-modified-id=\"Add-tup1-and-tup2-into-tup3-using-the-+-operator.-1.0.6\"><span class=\"toc-item-num\">1.0.6&nbsp;&nbsp;</span>Add <code>tup1</code> and <code>tup2</code> into <code>tup3</code> using the <code>+</code> operator.</a></span></li><li><span><a href=\"#Count-the-number-of-elements-in-tup1-and-tup2.-Then-add-the-two-counts-together-and-check-if-the-sum-is-the-same-as-the-number-of-elements-in-tup3.\" data-toc-modified-id=\"Count-the-number-of-elements-in-tup1-and-tup2.-Then-add-the-two-counts-together-and-check-if-the-sum-is-the-same-as-the-number-of-elements-in-tup3.-1.0.7\"><span class=\"toc-item-num\">1.0.7&nbsp;&nbsp;</span>Count the number of elements in <code>tup1</code> and <code>tup2</code>. Then add the two counts together and check if the sum is the same as the number of elements in <code>tup3</code>.</a></span></li><li><span><a href=\"#What-is-the-index-number-of-&quot;h&quot;-in-tup3?\" data-toc-modified-id=\"What-is-the-index-number-of-&quot;h&quot;-in-tup3?-1.0.8\"><span class=\"toc-item-num\">1.0.8&nbsp;&nbsp;</span>What is the index number of <code>\"h\"</code> in <code>tup3</code>?</a></span></li><li><span><a href=\"#Now,-use-a-FOR-loop-to-check-whether-each-letter-in-the-following-list-is-present-in-tup3:\" data-toc-modified-id=\"Now,-use-a-FOR-loop-to-check-whether-each-letter-in-the-following-list-is-present-in-tup3:-1.0.9\"><span class=\"toc-item-num\">1.0.9&nbsp;&nbsp;</span>Now, use a FOR loop to check whether each letter in the following list is present in <code>tup3</code>:</a></span></li><li><span><a href=\"#How-many-times-does-each-letter-in-letters-appear-in-tup3?\" data-toc-modified-id=\"How-many-times-does-each-letter-in-letters-appear-in-tup3?-1.0.10\"><span class=\"toc-item-num\">1.0.10&nbsp;&nbsp;</span>How many times does each letter in <code>letters</code> appear in <code>tup3</code>?</a></span></li></ul></li></ul></li><li><span><a href=\"#Challenge-2:-Sets\" data-toc-modified-id=\"Challenge-2:-Sets-2\"><span class=\"toc-item-num\">2&nbsp;&nbsp;</span>Challenge 2: Sets</a></span><ul class=\"toc-item\"><li><ul class=\"toc-item\"><li><span><a href=\"#First,-import-the-Python-random-library.\" data-toc-modified-id=\"First,-import-the-Python-random-library.-2.0.1\"><span class=\"toc-item-num\">2.0.1&nbsp;&nbsp;</span>First, import the Python <code>random</code> library.</a></span></li><li><span><a href=\"#In-the-cell-below,-create-a-list-named-sample_list_1-with-80-random-values.\" data-toc-modified-id=\"In-the-cell-below,-create-a-list-named-sample_list_1-with-80-random-values.-2.0.2\"><span class=\"toc-item-num\">2.0.2&nbsp;&nbsp;</span>In the cell below, create a list named <code>sample_list_1</code> with 80 random values.</a></span></li><li><span><a href=\"#Convert-sample_list_1-to-a-set-called-set1.-Print-the-length-of-the-set.-Is-its-length-still-80?\" data-toc-modified-id=\"Convert-sample_list_1-to-a-set-called-set1.-Print-the-length-of-the-set.-Is-its-length-still-80?-2.0.3\"><span class=\"toc-item-num\">2.0.3&nbsp;&nbsp;</span>Convert <code>sample_list_1</code> to a set called <code>set1</code>. Print the length of the set. Is its length still 80?</a></span></li><li><span><a href=\"#Create-another-list-named-sample_list_2-with-80-random-values.\" data-toc-modified-id=\"Create-another-list-named-sample_list_2-with-80-random-values.-2.0.4\"><span class=\"toc-item-num\">2.0.4&nbsp;&nbsp;</span>Create another list named <code>sample_list_2</code> with 80 random values.</a></span></li><li><span><a href=\"#Convert-sample_list_2-to-a-set-called-set2.-Print-the-length-of-the-set.-Is-its-length-still-80?\" data-toc-modified-id=\"Convert-sample_list_2-to-a-set-called-set2.-Print-the-length-of-the-set.-Is-its-length-still-80?-2.0.5\"><span class=\"toc-item-num\">2.0.5&nbsp;&nbsp;</span>Convert <code>sample_list_2</code> to a set called <code>set2</code>. Print the length of the set. Is its length still 80?</a></span></li><li><span><a href=\"#Identify-the-elements-present-in-set1-but-not-in-set2.-Assign-the-elements-to-a-new-set-named-set3.\" data-toc-modified-id=\"Identify-the-elements-present-in-set1-but-not-in-set2.-Assign-the-elements-to-a-new-set-named-set3.-2.0.6\"><span class=\"toc-item-num\">2.0.6&nbsp;&nbsp;</span>Identify the elements present in <code>set1</code> but not in <code>set2</code>. Assign the elements to a new set named <code>set3</code>.</a></span></li><li><span><a href=\"#Identify-the-elements-present-in-set2-but-not-in-set1.-Assign-the-elements-to-a-new-set-named-set4.\" data-toc-modified-id=\"Identify-the-elements-present-in-set2-but-not-in-set1.-Assign-the-elements-to-a-new-set-named-set4.-2.0.7\"><span class=\"toc-item-num\">2.0.7&nbsp;&nbsp;</span>Identify the elements present in <code>set2</code> but not in <code>set1</code>. Assign the elements to a new set named <code>set4</code>.</a></span></li><li><span><a href=\"#Now-Identify-the-elements-shared-between-set1-and-set2.-Assign-the-elements-to-a-new-set-named-set5.\" data-toc-modified-id=\"Now-Identify-the-elements-shared-between-set1-and-set2.-Assign-the-elements-to-a-new-set-named-set5.-2.0.8\"><span class=\"toc-item-num\">2.0.8&nbsp;&nbsp;</span>Now Identify the elements shared between <code>set1</code> and <code>set2</code>. Assign the elements to a new set named <code>set5</code>.</a></span></li><li><span><a href=\"#What-is-the-relationship-among-the-following-values:\" data-toc-modified-id=\"What-is-the-relationship-among-the-following-values:-2.0.9\"><span class=\"toc-item-num\">2.0.9&nbsp;&nbsp;</span>What is the relationship among the following values:</a></span></li><li><span><a href=\"#Create-an-empty-set-called-set6.\" data-toc-modified-id=\"Create-an-empty-set-called-set6.-2.0.10\"><span class=\"toc-item-num\">2.0.10&nbsp;&nbsp;</span>Create an empty set called <code>set6</code>.</a></span></li><li><span><a href=\"#Add-set3-and-set5-to-set6-using-the-Python-Set-update-method.\" data-toc-modified-id=\"Add-set3-and-set5-to-set6-using-the-Python-Set-update-method.-2.0.11\"><span class=\"toc-item-num\">2.0.11&nbsp;&nbsp;</span>Add <code>set3</code> and <code>set5</code> to <code>set6</code> using the Python Set <code>update</code> method.</a></span></li><li><span><a href=\"#Check-if-set1-and-set6-are-equal.\" data-toc-modified-id=\"Check-if-set1-and-set6-are-equal.-2.0.12\"><span class=\"toc-item-num\">2.0.12&nbsp;&nbsp;</span>Check if <code>set1</code> and <code>set6</code> are equal.</a></span></li><li><span><a href=\"#Check-if-set1-contains-set2-using-the-Python-Set-issubset-method.-Then-check-if-set1-contains-set3.*\" data-toc-modified-id=\"Check-if-set1-contains-set2-using-the-Python-Set-issubset-method.-Then-check-if-set1-contains-set3.*-2.0.13\"><span class=\"toc-item-num\">2.0.13&nbsp;&nbsp;</span>Check if <code>set1</code> contains <code>set2</code> using the Python Set <code>issubset</code> method. Then check if <code>set1</code> contains <code>set3</code>.*</a></span></li><li><span><a href=\"#Using-the-Python-Set-union-method,-aggregate-set3,-set4,-and-set5.-Then-aggregate-set1-and-set2.\" data-toc-modified-id=\"Using-the-Python-Set-union-method,-aggregate-set3,-set4,-and-set5.-Then-aggregate-set1-and-set2.-2.0.14\"><span class=\"toc-item-num\">2.0.14&nbsp;&nbsp;</span>Using the Python Set <code>union</code> method, aggregate <code>set3</code>, <code>set4</code>, and <code>set5</code>. Then aggregate <code>set1</code> and <code>set2</code>.</a></span></li><li><span><a href=\"#Check-if-the-aggregated-values-are-equal.\" data-toc-modified-id=\"Check-if-the-aggregated-values-are-equal.-2.0.15\"><span class=\"toc-item-num\">2.0.15&nbsp;&nbsp;</span>Check if the aggregated values are equal.</a></span></li><li><span><a href=\"#Using-the-pop-method,-remove-the-first-element-from-set1.\" data-toc-modified-id=\"Using-the-pop-method,-remove-the-first-element-from-set1.-2.0.16\"><span class=\"toc-item-num\">2.0.16&nbsp;&nbsp;</span>Using the <code>pop</code> method, remove the first element from <code>set1</code>.</a></span></li><li><span><a href=\"#Remove-every-element-in-the-following-list-from-set1-if-they-are-present-in-the-set.-Print-the-remaining-elements.\" data-toc-modified-id=\"Remove-every-element-in-the-following-list-from-set1-if-they-are-present-in-the-set.-Print-the-remaining-elements.-2.0.17\"><span class=\"toc-item-num\">2.0.17&nbsp;&nbsp;</span>Remove every element in the following list from <code>set1</code> if they are present in the set. Print the remaining elements.</a></span></li></ul></li></ul></li><li><span><a href=\"#Challenge-3:-Dictionaries\" data-toc-modified-id=\"Challenge-3:-Dictionaries-3\"><span class=\"toc-item-num\">3&nbsp;&nbsp;</span>Challenge 3: Dictionaries</a></span><ul class=\"toc-item\"><li><ul class=\"toc-item\"><li><span><a href=\"#Sort-the-keys-of-word_freq-ascendingly.\" data-toc-modified-id=\"Sort-the-keys-of-word_freq-ascendingly.-3.0.1\"><span class=\"toc-item-num\">3.0.1&nbsp;&nbsp;</span>Sort the keys of <code>word_freq</code> ascendingly.</a></span></li><li><span><a href=\"#Sort-the-values-of-word_freq-ascendingly.\" data-toc-modified-id=\"Sort-the-values-of-word_freq-ascendingly.-3.0.2\"><span class=\"toc-item-num\">3.0.2&nbsp;&nbsp;</span>Sort the values of <code>word_freq</code> ascendingly.</a></span></li></ul></li></ul></li></ul></div>"
   ]
  },
  {
   "cell_type": "markdown",
   "metadata": {},
   "source": [
    "## Challenge 1: Tuples\n",
    "\n",
    "#### Do you know you can create tuples with only one element?\n",
    "\n",
    "**In the cell below, define a variable `tup` with a single element `\"I\"`.**\n",
    "\n",
    "*Hint: you need to add a comma (`,`) after the single element.*"
   ]
  },
  {
   "cell_type": "code",
   "execution_count": null,
   "metadata": {},
   "outputs": [],
   "source": [
    "# Your code here\n",
    "tup = ('I',)\n",
    "\n",
    "tup"
   ]
  },
  {
   "cell_type": "markdown",
   "metadata": {},
   "source": [
    "#### Print the type of `tup`. \n",
    "\n",
    "Make sure its type is correct (i.e. *tuple* instead of *str*)."
   ]
  },
  {
   "cell_type": "code",
   "execution_count": null,
   "metadata": {},
   "outputs": [],
   "source": [
    "# Your code here\n",
    "print(type(tup))"
   ]
  },
  {
   "cell_type": "markdown",
   "metadata": {},
   "source": [
    "#### Now try to append the following elements to `tup`. \n",
    "\n",
    "Are you able to do it? Explain.\n",
    "\n",
    "```\n",
    "\"r\", \"o\", \"n\", \"h\", \"a\", \"c\", \"k',\n",
    "```"
   ]
  },
  {
   "cell_type": "code",
   "execution_count": null,
   "metadata": {},
   "outputs": [],
   "source": [
    "# Your code here\n",
    "tup_list = list(tup)\n",
    "\n",
    "tup_list.extend (['r','o','n','h','a','c','k'])\n",
    "\n",
    "tup = tuple(tup_list)\n",
    "\n",
    "tup\n",
    "\n",
    "# Your explanation here\n",
    "# para poder añadirles varios elementos a un tup primero hay que convertir el tup en una lista despues añadirle esos elementos a la lista y despues convertir esa lista a al tup principal.\n"
   ]
  },
  {
   "cell_type": "markdown",
   "metadata": {},
   "source": [
    "#### How about re-assign a new value to an existing tuple?\n",
    "\n",
    "Re-assign the following elements to `tup`. Are you able to do it? Explain.\n",
    "\n",
    "```\n",
    "\"I\", \"r\", \"o\", \"n\", \"h\", \"a\", \"c\", \"k\"\n",
    "```"
   ]
  },
  {
   "cell_type": "code",
   "execution_count": null,
   "metadata": {},
   "outputs": [],
   "source": [
    "# Your code here\n",
    "tup\n",
    "type(tup)\n",
    "# Your explanation here\n"
   ]
  },
  {
   "cell_type": "markdown",
   "metadata": {},
   "source": [
    "#### Split `tup` into `tup1` and `tup2` with 4 elements in each. \n",
    "\n",
    "`tup1` should be `(\"I\", \"r\", \"o\", \"n\")` and `tup2` should be `(\"h\", \"a\", \"c\", \"k\")`.\n",
    "\n",
    "*Hint: use positive index numbers for `tup1` assignment and use negative index numbers for `tup2` assignment. Positive index numbers count from the beginning whereas negative index numbers count from the end of the sequence.*\n",
    "\n",
    "Also print `tup1` and `tup2`."
   ]
  },
  {
   "cell_type": "code",
   "execution_count": null,
   "metadata": {},
   "outputs": [],
   "source": [
    "# Your code here\n",
    "tup_list2 = list(tup)\n",
    "tup1_list= tup_list2[0:4]\n",
    "tup2_list= tup_list2[4:8]\n",
    "tup1= tuple(tup1_list)\n",
    "tup2= tuple(tup2_list)\n",
    "print(tup1)\n",
    "print(tup2)"
   ]
  },
  {
   "cell_type": "markdown",
   "metadata": {},
   "source": [
    "#### Add `tup1` and `tup2` into `tup3` using the `+` operator.\n",
    "\n",
    "Then print `tup3` and check if `tup3` equals to `tup`."
   ]
  },
  {
   "cell_type": "code",
   "execution_count": null,
   "metadata": {},
   "outputs": [],
   "source": [
    "# Your code here\n",
    "tup3 = tup1+tup2\n",
    "print(tup3)\n",
    "tup3==tup\n"
   ]
  },
  {
   "cell_type": "markdown",
   "metadata": {},
   "source": [
    "#### Count the number of elements in `tup1` and `tup2`. Then add the two counts together and check if the sum is the same as the number of elements in `tup3`."
   ]
  },
  {
   "cell_type": "code",
   "execution_count": null,
   "metadata": {},
   "outputs": [],
   "source": [
    "# Your code here\n",
    "len(tup1)\n",
    "len(tup2)\n",
    "c1y2=len(tup1)+len(tup2)\n",
    "c1y2==len(tup3)"
   ]
  },
  {
   "cell_type": "markdown",
   "metadata": {},
   "source": [
    "#### What is the index number of `\"h\"` in `tup3`?"
   ]
  },
  {
   "cell_type": "code",
   "execution_count": null,
   "metadata": {},
   "outputs": [],
   "source": [
    "# Your code here\n",
    "h=tup3.index('h')\n",
    "print(h)"
   ]
  },
  {
   "cell_type": "markdown",
   "metadata": {},
   "source": [
    "#### Now, use a FOR loop to check whether each letter in the following list is present in `tup3`:\n",
    "\n",
    "```\n",
    "letters = [\"a\", \"b\", \"c\", \"d\", \"e\"]\n",
    "```\n",
    "\n",
    "For each letter you check, print `True` if it is present in `tup3` otherwise print `False`.\n",
    "\n",
    "*Hint: you only need to loop `letters`. You don't need to loop `tup3` because there is a Python operator `in` you can use. See [reference](https://stackoverflow.com/questions/17920147/how-to-check-if-a-tuple-contains-an-element-in-python).*"
   ]
  },
  {
   "cell_type": "code",
   "execution_count": null,
   "metadata": {},
   "outputs": [],
   "source": [
    "# Your code here\n",
    "letters = [\"a\", \"b\", \"c\", \"d\", \"e\"]\n",
    "for letter in letters:\n",
    "    if letter in tup3:\n",
    "        print('true')\n",
    "    else:\n",
    "        print('false')\n",
    "    "
   ]
  },
  {
   "cell_type": "markdown",
   "metadata": {},
   "source": [
    "#### How many times does each letter in `letters` appear in `tup3`?\n",
    "\n",
    "Print out the number of occurrence of each letter."
   ]
  },
  {
   "cell_type": "code",
   "execution_count": null,
   "metadata": {},
   "outputs": [],
   "source": [
    "# Your code here\n",
    "for letter in letters:\n",
    "    count = tup3.count(letter)\n",
    "    print(count)"
   ]
  },
  {
   "cell_type": "markdown",
   "metadata": {},
   "source": [
    "## Challenge 2: Sets\n",
    "\n",
    "There are a lot to learn about Python Sets and the information presented in the lesson is limited due to its length. To learn Python Sets in depth you are strongly encouraged to review the W3Schools tutorial on [Python Sets Examples and Methods](https://www.w3schools.com/python/python_sets.asp) before you work on this lab. Some difficult questions in this lab have their solutions in the W3Schools tutorial.\n",
    "\n",
    "#### First, import the Python `random` library."
   ]
  },
  {
   "cell_type": "code",
   "execution_count": 1,
   "metadata": {},
   "outputs": [],
   "source": [
    "import random"
   ]
  },
  {
   "cell_type": "markdown",
   "metadata": {},
   "source": [
    "#### In the cell below, create a list named `sample_list_1` with 80 random values. \n",
    "\n",
    "Requirements:\n",
    "\n",
    "* Each value is an integer falling between 0 and 100.\n",
    "* Each value in the list is unique.\n",
    "\n",
    "Print `sample_list_1` to review its values\n",
    "\n",
    "*Hint: use `random.sample` ([reference](https://docs.python.org/3/library/random.html#random.sample)).*"
   ]
  },
  {
   "cell_type": "code",
   "execution_count": 2,
   "metadata": {},
   "outputs": [
    {
     "name": "stdout",
     "output_type": "stream",
     "text": [
      "[34, 95, 18, 45, 47, 9, 84, 26, 40, 8, 98, 39, 94, 99, 29, 65, 72, 41, 87, 10, 12, 61, 48, 28, 71, 1, 7, 27, 50, 20, 33, 13, 0, 49, 16, 56, 70, 11, 30, 82, 73, 68, 31, 75, 23, 3, 37, 96, 85, 46, 89, 80, 43, 19, 24, 52, 62, 55, 60, 54, 88, 97, 67, 25, 77, 21, 83, 4, 35, 6, 42, 64, 63, 69, 59, 17, 57, 92, 32, 44]\n"
     ]
    }
   ],
   "source": [
    "# Your code here\n",
    "sample_list_1 = (random.sample(range(100), k=80))\n",
    "print(sample_list_1)"
   ]
  },
  {
   "cell_type": "markdown",
   "metadata": {},
   "source": [
    "#### Convert `sample_list_1` to a set called `set1`. Print the length of the set. Is its length still 80?"
   ]
  },
  {
   "cell_type": "code",
   "execution_count": 3,
   "metadata": {},
   "outputs": [
    {
     "name": "stdout",
     "output_type": "stream",
     "text": [
      "80\n",
      "{0, 1, 3, 4, 6, 7, 8, 9, 10, 11, 12, 13, 16, 17, 18, 19, 20, 21, 23, 24, 25, 26, 27, 28, 29, 30, 31, 32, 33, 34, 35, 37, 39, 40, 41, 42, 43, 44, 45, 46, 47, 48, 49, 50, 52, 54, 55, 56, 57, 59, 60, 61, 62, 63, 64, 65, 67, 68, 69, 70, 71, 72, 73, 75, 77, 80, 82, 83, 84, 85, 87, 88, 89, 92, 94, 95, 96, 97, 98, 99}\n"
     ]
    }
   ],
   "source": [
    "# Your code here\n",
    "set1= set(sample_list_1)\n",
    "print(len(set1))\n",
    "print(set1)"
   ]
  },
  {
   "cell_type": "markdown",
   "metadata": {},
   "source": [
    "#### Create another list named `sample_list_2` with 80 random values.\n",
    "\n",
    "Requirements:\n",
    "\n",
    "* Each value is an integer falling between 0 and 100.\n",
    "* The values in the list don't have to be unique.\n",
    "\n",
    "*Hint: Use a FOR loop.*"
   ]
  },
  {
   "cell_type": "code",
   "execution_count": 4,
   "metadata": {},
   "outputs": [],
   "source": [
    "# Your code here\n",
    "sample_list_2 = [random.randint(0,100) for i in range (80)]"
   ]
  },
  {
   "cell_type": "markdown",
   "metadata": {},
   "source": [
    "#### Convert `sample_list_2` to a set called `set2`. Print the length of the set. Is its length still 80?"
   ]
  },
  {
   "cell_type": "code",
   "execution_count": 5,
   "metadata": {},
   "outputs": [
    {
     "name": "stdout",
     "output_type": "stream",
     "text": [
      "55\n",
      "{8, 9, 10, 11, 12, 14, 15, 16, 17, 19, 20, 22, 23, 24, 31, 33, 37, 40, 42, 43, 45, 46, 47, 48, 50, 52, 53, 56, 58, 59, 60, 63, 64, 66, 67, 69, 72, 73, 75, 77, 79, 80, 81, 82, 83, 85, 87, 88, 89, 93, 95, 96, 97, 99, 100}\n"
     ]
    }
   ],
   "source": [
    "# Your code here\n",
    "set2= set(sample_list_2)\n",
    "print(len(set2))\n",
    "print(set2)"
   ]
  },
  {
   "cell_type": "markdown",
   "metadata": {},
   "source": [
    "#### Identify the elements present in `set1` but not in `set2`. Assign the elements to a new set named `set3`."
   ]
  },
  {
   "cell_type": "code",
   "execution_count": 6,
   "metadata": {},
   "outputs": [
    {
     "name": "stdout",
     "output_type": "stream",
     "text": [
      "{0, 1, 3, 4, 6, 7, 13, 18, 21, 25, 26, 27, 28, 29, 30, 32, 34, 35, 39, 41, 44, 49, 54, 55, 57, 61, 62, 65, 68, 70, 71, 84, 92, 94, 98}\n"
     ]
    }
   ],
   "source": [
    "# Your code here\n",
    "set3= set1-(set1&set2)\n",
    "print(set3)"
   ]
  },
  {
   "cell_type": "markdown",
   "metadata": {},
   "source": [
    "#### Identify the elements present in `set2` but not in `set1`. Assign the elements to a new set named `set4`."
   ]
  },
  {
   "cell_type": "code",
   "execution_count": 7,
   "metadata": {},
   "outputs": [
    {
     "name": "stdout",
     "output_type": "stream",
     "text": [
      "{66, 100, 14, 15, 79, 81, 53, 22, 58, 93}\n"
     ]
    }
   ],
   "source": [
    "# Your code here\n",
    "set4= set2-(set2&set1)\n",
    "print(set4)"
   ]
  },
  {
   "cell_type": "markdown",
   "metadata": {},
   "source": [
    "#### Now Identify the elements shared between `set1` and `set2`. Assign the elements to a new set named `set5`."
   ]
  },
  {
   "cell_type": "code",
   "execution_count": 8,
   "metadata": {},
   "outputs": [
    {
     "name": "stdout",
     "output_type": "stream",
     "text": [
      "{8, 9, 10, 11, 12, 16, 17, 19, 20, 23, 24, 31, 33, 37, 40, 42, 43, 45, 46, 47, 48, 50, 52, 56, 59, 60, 63, 64, 67, 69, 72, 73, 75, 77, 80, 82, 83, 85, 87, 88, 89, 95, 96, 97, 99}\n"
     ]
    },
    {
     "data": {
      "text/plain": [
       "set"
      ]
     },
     "execution_count": 8,
     "metadata": {},
     "output_type": "execute_result"
    }
   ],
   "source": [
    "# Your code here\n",
    "set5= set1&set2\n",
    "print(set5)\n",
    "type(set5)\n"
   ]
  },
  {
   "cell_type": "markdown",
   "metadata": {},
   "source": [
    "#### What is the relationship among the following values:\n",
    "\n",
    "* len(set1)\n",
    "* len(set2)\n",
    "* len(set3)\n",
    "* len(set4)\n",
    "* len(set5)\n",
    "\n",
    "Use a math formular to represent that relationship. Test your formular with Python code."
   ]
  },
  {
   "cell_type": "code",
   "execution_count": 9,
   "metadata": {},
   "outputs": [
    {
     "data": {
      "text/plain": [
       "True"
      ]
     },
     "execution_count": 9,
     "metadata": {},
     "output_type": "execute_result"
    }
   ],
   "source": [
    "# Your code here\n",
    "len(set1)+len(set2)-len(set5)==len(set3)+len(set4)+len(set5)"
   ]
  },
  {
   "cell_type": "markdown",
   "metadata": {},
   "source": [
    "#### Create an empty set called `set6`."
   ]
  },
  {
   "cell_type": "code",
   "execution_count": 10,
   "metadata": {},
   "outputs": [
    {
     "data": {
      "text/plain": [
       "set"
      ]
     },
     "execution_count": 10,
     "metadata": {},
     "output_type": "execute_result"
    }
   ],
   "source": [
    "# Your code here\n",
    "set6= set()\n",
    "type(set6)"
   ]
  },
  {
   "cell_type": "markdown",
   "metadata": {},
   "source": [
    "#### Add `set3` and `set5` to `set6` using the Python Set `update` method."
   ]
  },
  {
   "cell_type": "code",
   "execution_count": 11,
   "metadata": {},
   "outputs": [],
   "source": [
    "# Your code here\n",
    "set6.update(set3)\n",
    "set6.update(set5)"
   ]
  },
  {
   "cell_type": "markdown",
   "metadata": {},
   "source": [
    "#### Check if `set1` and `set6` are equal."
   ]
  },
  {
   "cell_type": "code",
   "execution_count": 12,
   "metadata": {},
   "outputs": [
    {
     "data": {
      "text/plain": [
       "True"
      ]
     },
     "execution_count": 12,
     "metadata": {},
     "output_type": "execute_result"
    }
   ],
   "source": [
    "# Your code here\n",
    "set1==set6"
   ]
  },
  {
   "cell_type": "markdown",
   "metadata": {},
   "source": [
    "#### Check if `set1` contains `set2` using the Python Set `issubset` method. Then check if `set1` contains `set3`.*"
   ]
  },
  {
   "cell_type": "code",
   "execution_count": 13,
   "metadata": {},
   "outputs": [
    {
     "name": "stdout",
     "output_type": "stream",
     "text": [
      "False\n"
     ]
    },
    {
     "data": {
      "text/plain": [
       "True"
      ]
     },
     "execution_count": 13,
     "metadata": {},
     "output_type": "execute_result"
    }
   ],
   "source": [
    "# Your code here\n",
    "set2.issubset(set1)\n",
    "print(set1.issubset(set2))\n",
    "set3.issubset(set1)\n"
   ]
  },
  {
   "cell_type": "markdown",
   "metadata": {},
   "source": [
    "#### Using the Python Set `union` method, aggregate `set3`, `set4`, and `set5`. Then aggregate `set1` and `set2`. "
   ]
  },
  {
   "cell_type": "code",
   "execution_count": 14,
   "metadata": {},
   "outputs": [],
   "source": [
    "# Your code here\n",
    "set7= set3.union(set4, set5)\n",
    "set8= set1.union(set2)"
   ]
  },
  {
   "cell_type": "markdown",
   "metadata": {},
   "source": [
    "#### Check if the aggregated values are equal."
   ]
  },
  {
   "cell_type": "code",
   "execution_count": 15,
   "metadata": {},
   "outputs": [
    {
     "data": {
      "text/plain": [
       "True"
      ]
     },
     "execution_count": 15,
     "metadata": {},
     "output_type": "execute_result"
    }
   ],
   "source": [
    "# Your code here\n",
    "set7==set8"
   ]
  },
  {
   "cell_type": "markdown",
   "metadata": {},
   "source": [
    "#### Using the `pop` method, remove the first element from `set1`."
   ]
  },
  {
   "cell_type": "code",
   "execution_count": 19,
   "metadata": {},
   "outputs": [
    {
     "data": {
      "text/plain": [
       "0"
      ]
     },
     "execution_count": 19,
     "metadata": {},
     "output_type": "execute_result"
    }
   ],
   "source": [
    "# Your code here\n",
    "lst_set1=list(set1)\n",
    "type(lst_set1)\n",
    "lst_set1.pop(0)\n"
   ]
  },
  {
   "cell_type": "markdown",
   "metadata": {},
   "source": [
    "#### Remove every element in the following list from `set1` if they are present in the set. Print the remaining elements.\n",
    "\n",
    "```\n",
    "list_to_remove = [1, 9, 11, 19, 21, 29, 31, 39, 41, 49, 51, 59, 61, 69, 71, 79, 81, 89, 91, 99]\n",
    "```"
   ]
  },
  {
   "cell_type": "code",
   "execution_count": 31,
   "metadata": {},
   "outputs": [
    {
     "name": "stdout",
     "output_type": "stream",
     "text": [
      "<class 'set'>\n",
      "{3, 4, 6, 7, 8, 10, 12, 13, 16, 17, 18, 20, 23, 24, 25, 26, 27, 28, 30, 32, 33, 34, 35, 37, 40, 42, 43, 44, 45, 46, 47, 48, 50, 52, 54, 55, 56, 57, 60, 62, 63, 64, 65, 67, 68, 70, 72, 73, 75, 77, 80, 82, 83, 84, 85, 87, 88, 92, 94, 95, 96, 97, 98}\n"
     ]
    }
   ],
   "source": [
    "# Your code here\n",
    "list_to_remove = [1, 9, 11, 19, 21, 29, 31, 39, 41, 49, 51, 59, 61, 69, 71, 79, 81, 89, 91, 99]\n",
    "for i in list_to_remove:\n",
    "    if i in lst_set1:\n",
    "        lst_set1.remove(i)\n",
    "\n",
    "set1=set(lst_set1)\n",
    "print(type(set1))\n",
    "print(set1)"
   ]
  },
  {
   "cell_type": "markdown",
   "metadata": {},
   "source": [
    "## Challenge 3: Dictionaries\n",
    "\n",
    "In this challenge you will practice how to manipulate Python dictionaries. Before starting on this challenge, you are encouraged to review W3School's [Python Dictionary Examples and Methods](https://www.w3schools.com/python/python_dictionaries.asp).\n",
    "\n",
    "First thing you will practice is how to sort the keys in a dictionary. Unlike the list object, Python dictionary does not have a built-in *sort* method. You'll need to use FOR loops to to sort dictionaries either by key or by value.\n",
    "\n",
    "The dictionary below is a summary of the word frequency of Ed Sheeran's song *Shape of You*. Each key is a word in the lyrics and the value is the number of times that word appears in the lyrics."
   ]
  },
  {
   "cell_type": "code",
   "execution_count": 51,
   "metadata": {},
   "outputs": [],
   "source": [
    "word_freq = {'love': 25, 'conversation': 1, 'every': 6, \"we're\": 1, 'plate': 1, 'sour': 1, 'jukebox': 1, 'now': 11, 'taxi': 1, 'fast': 1, 'bag': 1, 'man': 1, 'push': 3, 'baby': 14, 'going': 1, 'you': 16, \"don't\": 2, 'one': 1, 'mind': 2, 'backseat': 1, 'friends': 1, 'then': 3, 'know': 2, 'take': 1, 'play': 1, 'okay': 1, 'so': 2, 'begin': 1, 'start': 2, 'over': 1, 'body': 17, 'boy': 2, 'just': 1, 'we': 7, 'are': 1, 'girl': 2, 'tell': 1, 'singing': 2, 'drinking': 1, 'put': 3, 'our': 1, 'where': 1, \"i'll\": 1, 'all': 1, \"isn't\": 1, 'make': 1, 'lover': 1, 'get': 1, 'radio': 1, 'give': 1, \"i'm\": 23, 'like': 10, 'can': 1, 'doing': 2, 'with': 22, 'club': 1, 'come': 37, 'it': 1, 'somebody': 2, 'handmade': 2, 'out': 1, 'new': 6, 'room': 3, 'chance': 1, 'follow': 6, 'in': 27, 'may': 2, 'brand': 6, 'that': 2, 'magnet': 3, 'up': 3, 'first': 1, 'and': 23, 'pull': 3, 'of': 6, 'table': 1, 'much': 2, 'last': 3, 'i': 6, 'thrifty': 1, 'grab': 2, 'was': 2, 'driver': 1, 'slow': 1, 'dance': 1, 'the': 18, 'say': 2, 'trust': 1, 'family': 1, 'week': 1, 'date': 1, 'me': 10, 'do': 3, 'waist': 2, 'smell': 3, 'day': 6, 'although': 3, 'your': 21, 'leave': 1, 'want': 2, \"let's\": 2, 'lead': 6, 'at': 1, 'hand': 1, 'how': 1, 'talk': 4, 'not': 2, 'eat': 1, 'falling': 3, 'about': 1, 'story': 1, 'sweet': 1, 'best': 1, 'crazy': 2, 'let': 1, 'too': 5, 'van': 1, 'shots': 1, 'go': 2, 'to': 2, 'a': 8, 'my': 33, 'is': 5, 'place': 1, 'find': 1, 'shape': 6, 'on': 40, 'kiss': 1, 'were': 3, 'night': 3, 'heart': 3, 'for': 3, 'discovering': 6, 'something': 6, 'be': 16, 'bedsheets': 3, 'fill': 2, 'hours': 2, 'stop': 1, 'bar': 1}"
   ]
  },
  {
   "cell_type": "markdown",
   "metadata": {},
   "source": [
    "#### Sort the keys of `word_freq` ascendingly.\n",
    "\n",
    "Please create a new dictionary called `word_freq2` based on `word_freq` with the keys sorted ascedingly.\n",
    "\n",
    "There are several ways to achieve that goal but many of the ways are beyond what we have covered so far in the course. There is one way that we'll describe employing what you have learned. Please feel free to use this way or any other way you want.\n",
    "\n",
    "1. First extract the keys of `word_freq` and convert it to a list called `keys`.\n",
    "\n",
    "1. Sort the `keys` list.\n",
    "\n",
    "1. Create an empty dictionary `word_freq2`.\n",
    "\n",
    "1. Use a FOR loop to iterate each value in `keys`. For each key iterated, find the corresponding value in `word_freq` and insert the key-value pair to `word_freq2`.\n",
    "\n",
    "Print out `word_freq2` to examine its keys and values. Your output should be:\n",
    "\n",
    "```python\n",
    "{'a': 8, 'about': 1, 'all': 1, 'although': 3, 'and': 23, 'are': 1, 'at': 1, 'baby': 14, 'backseat': 1, 'bag': 1, 'bar': 1, 'be': 16, 'bedsheets': 3, 'begin': 1, 'best': 1, 'body': 17, 'boy': 2, 'brand': 6, 'can': 1, 'chance': 1, 'club': 1, 'come': 37, 'conversation': 1, 'crazy': 2, 'dance': 1, 'date': 1, 'day': 6, 'discovering': 6, 'do': 3, 'doing': 2, \"don't\": 2, 'drinking': 1, 'driver': 1, 'eat': 1, 'every': 6, 'falling': 3, 'family': 1, 'fast': 1, 'fill': 2, 'find': 1, 'first': 1, 'follow': 6, 'for': 3, 'friends': 1, 'get': 1, 'girl': 2, 'give': 1, 'go': 2, 'going': 1, 'grab': 2, 'hand': 1, 'handmade': 2, 'heart': 3, 'hours': 2, 'how': 1, 'i': 6, \"i'll\": 1, \"i'm\": 23, 'in': 27, 'is': 5, \"isn't\": 1, 'it': 1, 'jukebox': 1, 'just': 1, 'kiss': 1, 'know': 2, 'last': 3, 'lead': 6, 'leave': 1, 'let': 1, \"let's\": 2, 'like': 10, 'love': 25, 'lover': 1, 'magnet': 3, 'make': 1, 'man': 1, 'may': 2, 'me': 10, 'mind': 2, 'much': 2, 'my': 33, 'new': 6, 'night': 3, 'not': 2, 'now': 11, 'of': 6, 'okay': 1, 'on': 40, 'one': 1, 'our': 1, 'out': 1, 'over': 1, 'place': 1, 'plate': 1, 'play': 1, 'pull': 3, 'push': 3, 'put': 3, 'radio': 1, 'room': 3, 'say': 2, 'shape': 6, 'shots': 1, 'singing': 2, 'slow': 1, 'smell': 3, 'so': 2, 'somebody': 2, 'something': 6, 'sour': 1, 'start': 2, 'stop': 1, 'story': 1, 'sweet': 1, 'table': 1, 'take': 1, 'talk': 4, 'taxi': 1, 'tell': 1, 'that': 2, 'the': 18, 'then': 3, 'thrifty': 1, 'to': 2, 'too': 5, 'trust': 1, 'up': 3, 'van': 1, 'waist': 2, 'want': 2, 'was': 2, 'we': 7, \"we're\": 1, 'week': 1, 'were': 3, 'where': 1, 'with': 22, 'you': 16, 'your': 21}\n",
    "```"
   ]
  },
  {
   "cell_type": "code",
   "execution_count": 117,
   "metadata": {},
   "outputs": [
    {
     "name": "stdout",
     "output_type": "stream",
     "text": [
      "{'a': 8, 'about': 1, 'all': 1, 'although': 3, 'and': 23, 'are': 1, 'at': 1, 'baby': 14, 'backseat': 1, 'bag': 1, 'bar': 1, 'be': 16, 'bedsheets': 3, 'begin': 1, 'best': 1, 'body': 17, 'boy': 2, 'brand': 6, 'can': 1, 'chance': 1, 'club': 1, 'come': 37, 'conversation': 1, 'crazy': 2, 'dance': 1, 'date': 1, 'day': 6, 'discovering': 6, 'do': 3, 'doing': 2, \"don't\": 2, 'drinking': 1, 'driver': 1, 'eat': 1, 'every': 6, 'falling': 3, 'family': 1, 'fast': 1, 'fill': 2, 'find': 1, 'first': 1, 'follow': 6, 'for': 3, 'friends': 1, 'get': 1, 'girl': 2, 'give': 1, 'go': 2, 'going': 1, 'grab': 2, 'hand': 1, 'handmade': 2, 'heart': 3, 'hours': 2, 'how': 1, 'i': 6, \"i'll\": 1, \"i'm\": 23, 'in': 27, 'is': 5, \"isn't\": 1, 'it': 1, 'jukebox': 1, 'just': 1, 'kiss': 1, 'know': 2, 'last': 3, 'lead': 6, 'leave': 1, 'let': 1, \"let's\": 2, 'like': 10, 'love': 25, 'lover': 1, 'magnet': 3, 'make': 1, 'man': 1, 'may': 2, 'me': 10, 'mind': 2, 'much': 2, 'my': 33, 'new': 6, 'night': 3, 'not': 2, 'now': 11, 'of': 6, 'okay': 1, 'on': 40, 'one': 1, 'our': 1, 'out': 1, 'over': 1, 'place': 1, 'plate': 1, 'play': 1, 'pull': 3, 'push': 3, 'put': 3, 'radio': 1, 'room': 3, 'say': 2, 'shape': 6, 'shots': 1, 'singing': 2, 'slow': 1, 'smell': 3, 'so': 2, 'somebody': 2, 'something': 6, 'sour': 1, 'start': 2, 'stop': 1, 'story': 1, 'sweet': 1, 'table': 1, 'take': 1, 'talk': 4, 'taxi': 1, 'tell': 1, 'that': 2, 'the': 18, 'then': 3, 'thrifty': 1, 'to': 2, 'too': 5, 'trust': 1, 'up': 3, 'van': 1, 'waist': 2, 'want': 2, 'was': 2, 'we': 7, \"we're\": 1, 'week': 1, 'were': 3, 'where': 1, 'with': 22, 'you': 16, 'your': 21}\n"
     ]
    },
    {
     "data": {
      "text/plain": [
       "True"
      ]
     },
     "execution_count": 117,
     "metadata": {},
     "output_type": "execute_result"
    }
   ],
   "source": [
    "# Your code here\n",
    "values =(sorted(word_freq.keys()))\n",
    "word_freq2 = {}\n",
    "for key in values:\n",
    "    word_freq2[key] = word_freq[key]\n",
    "print( word_freq2)\n",
    "Copy_1= {'a': 8, 'about': 1, 'all': 1, 'although': 3, 'and': 23, 'are': 1, 'at': 1, 'baby': 14, 'backseat': 1, 'bag': 1, 'bar': 1, 'be': 16, 'bedsheets': 3, 'begin': 1, 'best': 1, 'body': 17, 'boy': 2, 'brand': 6, 'can': 1, 'chance': 1, 'club': 1, 'come': 37, 'conversation': 1, 'crazy': 2, 'dance': 1, 'date': 1, 'day': 6, 'discovering': 6, 'do': 3, 'doing': 2, \"don't\": 2, 'drinking': 1, 'driver': 1, 'eat': 1, 'every': 6, 'falling': 3, 'family': 1, 'fast': 1, 'fill': 2, 'find': 1, 'first': 1, 'follow': 6, 'for': 3, 'friends': 1, 'get': 1, 'girl': 2, 'give': 1, 'go': 2, 'going': 1, 'grab': 2, 'hand': 1, 'handmade': 2, 'heart': 3, 'hours': 2, 'how': 1, 'i': 6, \"i'll\": 1, \"i'm\": 23, 'in': 27, 'is': 5, \"isn't\": 1, 'it': 1, 'jukebox': 1, 'just': 1, 'kiss': 1, 'know': 2, 'last': 3, 'lead': 6, 'leave': 1, 'let': 1, \"let's\": 2, 'like': 10, 'love': 25, 'lover': 1, 'magnet': 3, 'make': 1, 'man': 1, 'may': 2, 'me': 10, 'mind': 2, 'much': 2, 'my': 33, 'new': 6, 'night': 3, 'not': 2, 'now': 11, 'of': 6, 'okay': 1, 'on': 40, 'one': 1, 'our': 1, 'out': 1, 'over': 1, 'place': 1, 'plate': 1, 'play': 1, 'pull': 3, 'push': 3, 'put': 3, 'radio': 1, 'room': 3, 'say': 2, 'shape': 6, 'shots': 1, 'singing': 2, 'slow': 1, 'smell': 3, 'so': 2, 'somebody': 2, 'something': 6, 'sour': 1, 'start': 2, 'stop': 1, 'story': 1, 'sweet': 1, 'table': 1, 'take': 1, 'talk': 4, 'taxi': 1, 'tell': 1, 'that': 2, 'the': 18, 'then': 3, 'thrifty': 1, 'to': 2, 'too': 5, 'trust': 1, 'up': 3, 'van': 1, 'waist': 2, 'want': 2, 'was': 2, 'we': 7, \"we're\": 1, 'week': 1, 'were': 3, 'where': 1, 'with': 22, 'you': 16, 'your': 21}\n",
    "\n",
    "Copy_1==word_freq2\n"
   ]
  },
  {
   "cell_type": "markdown",
   "metadata": {},
   "source": [
    "#### Sort the values of `word_freq` ascendingly.\n",
    "\n",
    "Sorting the values of a dictionary is more tricky than sorting the keys because a dictionary's values are not unique. Therefore you cannot use the same way you sorted dict keys to sort dict values.\n",
    "\n",
    "The way to sort a dict by value is to utilize the `sorted` and `operator.itemgetter` functions. The following code snippet is provided to you to try. It will give you a list of tuples in which each tuple contains the key and value of a dict item. And the list is sorted based on the dict value ( [reference](http://thomas-cokelaer.info/blog/2017/12/how-to-sort-a-dictionary-by-values-in-python/)\n",
    ").\n",
    "\n",
    "```python\n",
    "import operator\n",
    "sorted_tups = sorted(word_freq.items(), key=operator.itemgetter(1))\n",
    "print(sorted_tups)\n",
    "```\n",
    "\n",
    "Therefore, the steps to sort `word_freq` by value are:\n",
    "\n",
    "* Using `sorted` and `operator.itemgetter`, obtain a list of tuples of the dict key-value pairs which is sorted on the value.\n",
    "\n",
    "* Create an empty dictionary named `word_freq2`.\n",
    "\n",
    "* Iterate the list of tuples. Insert each key-value pair into `word_freq2` as an object.\n",
    "\n",
    "Print `word_freq2` to confirm your dictionary has its values sorted. Your output should be:\n",
    "\n",
    "```python\n",
    "{'conversation': 1, \"we're\": 1, 'plate': 1, 'sour': 1, 'jukebox': 1, 'taxi': 1, 'fast': 1, 'bag': 1, 'man': 1, 'going': 1, 'one': 1, 'backseat': 1, 'friends': 1, 'take': 1, 'play': 1, 'okay': 1, 'begin': 1, 'over': 1, 'just': 1, 'are': 1, 'tell': 1, 'drinking': 1, 'our': 1, 'where': 1, \"i'll\": 1, 'all': 1, \"isn't\": 1, 'make': 1, 'lover': 1, 'get': 1, 'radio': 1, 'give': 1, 'can': 1, 'club': 1, 'it': 1, 'out': 1, 'chance': 1, 'first': 1, 'table': 1, 'thrifty': 1, 'driver': 1, 'slow': 1, 'dance': 1, 'trust': 1, 'family': 1, 'week': 1, 'date': 1, 'leave': 1, 'at': 1, 'hand': 1, 'how': 1, 'eat': 1, 'about': 1, 'story': 1, 'sweet': 1, 'best': 1, 'let': 1, 'van': 1, 'shots': 1, 'place': 1, 'find': 1, 'kiss': 1, 'stop': 1, 'bar': 1, \"don't\": 2, 'mind': 2, 'know': 2, 'so': 2, 'start': 2, 'boy': 2, 'girl': 2, 'singing': 2, 'doing': 2, 'somebody': 2, 'handmade': 2, 'may': 2, 'that': 2, 'much': 2, 'grab': 2, 'was': 2, 'say': 2, 'waist': 2, 'want': 2, \"let's\": 2, 'not': 2, 'crazy': 2, 'go': 2, 'to': 2, 'fill': 2, 'hours': 2, 'push': 3, 'then': 3, 'put': 3, 'room': 3, 'magnet': 3, 'up': 3, 'pull': 3, 'last': 3, 'do': 3, 'smell': 3, 'although': 3, 'falling': 3, 'were': 3, 'night': 3, 'heart': 3, 'for': 3, 'bedsheets': 3, 'talk': 4, 'too': 5, 'is': 5, 'every': 6, 'new': 6, 'follow': 6, 'brand': 6, 'of': 6, 'i': 6, 'day': 6, 'lead': 6, 'shape': 6, 'discovering': 6, 'something': 6, 'we': 7, 'a': 8, 'like': 10, 'me': 10, 'now': 11, 'baby': 14, 'you': 16, 'be': 16, 'body': 17, 'the': 18, 'your': 21, 'with': 22, \"i'm\": 23, 'and': 23, 'love': 25, 'in': 27, 'my': 33, 'come': 37, 'on': 40}\n",
    "```"
   ]
  },
  {
   "cell_type": "code",
   "execution_count": 94,
   "metadata": {},
   "outputs": [
    {
     "name": "stdout",
     "output_type": "stream",
     "text": [
      "{'conversation': 1, \"we're\": 1, 'plate': 1, 'sour': 1, 'jukebox': 1, 'taxi': 1, 'fast': 1, 'bag': 1, 'man': 1, 'going': 1, 'one': 1, 'backseat': 1, 'friends': 1, 'take': 1, 'play': 1, 'okay': 1, 'begin': 1, 'over': 1, 'just': 1, 'are': 1, 'tell': 1, 'drinking': 1, 'our': 1, 'where': 1, \"i'll\": 1, 'all': 1, \"isn't\": 1, 'make': 1, 'lover': 1, 'get': 1, 'radio': 1, 'give': 1, 'can': 1, 'club': 1, 'it': 1, 'out': 1, 'chance': 1, 'first': 1, 'table': 1, 'thrifty': 1, 'driver': 1, 'slow': 1, 'dance': 1, 'trust': 1, 'family': 1, 'week': 1, 'date': 1, 'leave': 1, 'at': 1, 'hand': 1, 'how': 1, 'eat': 1, 'about': 1, 'story': 1, 'sweet': 1, 'best': 1, 'let': 1, 'van': 1, 'shots': 1, 'place': 1, 'find': 1, 'kiss': 1, 'stop': 1, 'bar': 1, \"don't\": 2, 'mind': 2, 'know': 2, 'so': 2, 'start': 2, 'boy': 2, 'girl': 2, 'singing': 2, 'doing': 2, 'somebody': 2, 'handmade': 2, 'may': 2, 'that': 2, 'much': 2, 'grab': 2, 'was': 2, 'say': 2, 'waist': 2, 'want': 2, \"let's\": 2, 'not': 2, 'crazy': 2, 'go': 2, 'to': 2, 'fill': 2, 'hours': 2, 'push': 3, 'then': 3, 'put': 3, 'room': 3, 'magnet': 3, 'up': 3, 'pull': 3, 'last': 3, 'do': 3, 'smell': 3, 'although': 3, 'falling': 3, 'were': 3, 'night': 3, 'heart': 3, 'for': 3, 'bedsheets': 3, 'talk': 4, 'too': 5, 'is': 5, 'every': 6, 'new': 6, 'follow': 6, 'brand': 6, 'of': 6, 'i': 6, 'day': 6, 'lead': 6, 'shape': 6, 'discovering': 6, 'something': 6, 'we': 7, 'a': 8, 'like': 10, 'me': 10, 'now': 11, 'baby': 14, 'you': 16, 'be': 16, 'body': 17, 'the': 18, 'your': 21, 'with': 22, \"i'm\": 23, 'and': 23, 'love': 25, 'in': 27, 'my': 33, 'come': 37, 'on': 40}\n"
     ]
    }
   ],
   "source": [
    "# Your code here\n",
    "import operator\n",
    "sorted_tups = sorted(word_freq.items(), key=operator.itemgetter(1))\n",
    "word_freq2= {}\n",
    "a1=tuple(sorted_tups)\n",
    "a2=dict(a1)\n",
    "word_freq2=a2\n",
    "print( word_freq2)\n",
    "\n"
   ]
  },
  {
   "cell_type": "code",
   "execution_count": null,
   "metadata": {},
   "outputs": [],
   "source": []
  }
 ],
 "metadata": {
  "kernelspec": {
   "display_name": "Python 3 (ipykernel)",
   "language": "python",
   "name": "python3"
  },
  "language_info": {
   "codemirror_mode": {
    "name": "ipython",
    "version": 3
   },
   "file_extension": ".py",
   "mimetype": "text/x-python",
   "name": "python",
   "nbconvert_exporter": "python",
   "pygments_lexer": "ipython3",
   "version": "3.11.5"
  },
  "toc": {
   "base_numbering": 1,
   "nav_menu": {},
   "number_sections": true,
   "sideBar": true,
   "skip_h1_title": false,
   "title_cell": "Table of Contents",
   "title_sidebar": "Contents",
   "toc_cell": true,
   "toc_position": {},
   "toc_section_display": true,
   "toc_window_display": false
  },
  "varInspector": {
   "cols": {
    "lenName": 16,
    "lenType": 16,
    "lenVar": 40
   },
   "kernels_config": {
    "python": {
     "delete_cmd_postfix": "",
     "delete_cmd_prefix": "del ",
     "library": "var_list.py",
     "varRefreshCmd": "print(var_dic_list())"
    },
    "r": {
     "delete_cmd_postfix": ") ",
     "delete_cmd_prefix": "rm(",
     "library": "var_list.r",
     "varRefreshCmd": "cat(var_dic_list()) "
    }
   },
   "types_to_exclude": [
    "module",
    "function",
    "builtin_function_or_method",
    "instance",
    "_Feature"
   ],
   "window_display": false
  }
 },
 "nbformat": 4,
 "nbformat_minor": 2
}
